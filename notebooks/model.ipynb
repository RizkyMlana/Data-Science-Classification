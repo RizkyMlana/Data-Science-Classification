{
 "cells": [
  {
   "cell_type": "markdown",
   "id": "6b868426",
   "metadata": {},
   "source": [
    "# **Classification Gender**"
   ]
  },
  {
   "cell_type": "markdown",
   "id": "babc500e",
   "metadata": {},
   "source": [
    "- Import Library"
   ]
  },
  {
   "cell_type": "code",
   "execution_count": 1,
   "id": "a28ce63d",
   "metadata": {},
   "outputs": [],
   "source": [
    "import pandas as pd\n",
    "import numpy as np \n",
    "from sklearn.model_selection import train_test_split\n",
    "from sklearn.preprocessing import LabelEncoder, StandardScaler\n",
    "from sklearn.tree import DecisionTreeClassifier\n",
    "from sklearn.neighbors import KNeighborsClassifier\n",
    "from sklearn.svm import SVC\n",
    "from sklearn.metrics import classification_report, confusion_matrix, accuracy_score\n",
    "import matplotlib.pyplot as plt"
   ]
  },
  {
   "cell_type": "markdown",
   "id": "323cdd85",
   "metadata": {},
   "source": [
    "- Load Data"
   ]
  },
  {
   "cell_type": "code",
   "execution_count": 2,
   "id": "49848e25",
   "metadata": {},
   "outputs": [
    {
     "data": {
      "application/vnd.microsoft.datawrangler.viewer.v0+json": {
       "columns": [
        {
         "name": "index",
         "rawType": "int64",
         "type": "integer"
        },
        {
         "name": "long_hair",
         "rawType": "int64",
         "type": "integer"
        },
        {
         "name": "forehead_width_cm",
         "rawType": "float64",
         "type": "float"
        },
        {
         "name": "forehead_height_cm",
         "rawType": "float64",
         "type": "float"
        },
        {
         "name": "nose_wide",
         "rawType": "int64",
         "type": "integer"
        },
        {
         "name": "nose_long",
         "rawType": "int64",
         "type": "integer"
        },
        {
         "name": "lips_thin",
         "rawType": "int64",
         "type": "integer"
        },
        {
         "name": "distance_nose_to_lip_long",
         "rawType": "int64",
         "type": "integer"
        },
        {
         "name": "gender",
         "rawType": "object",
         "type": "string"
        }
       ],
       "conversionMethod": "pd.DataFrame",
       "ref": "619dad9d-cb8e-4761-b14a-9a4f0dc442b6",
       "rows": [
        [
         "0",
         "1",
         "11.8",
         "6.1",
         "1",
         "0",
         "1",
         "1",
         "Male"
        ],
        [
         "1",
         "0",
         "14.0",
         "5.4",
         "0",
         "0",
         "1",
         "0",
         "Female"
        ],
        [
         "2",
         "0",
         "11.8",
         "6.3",
         "1",
         "1",
         "1",
         "1",
         "Male"
        ],
        [
         "3",
         "0",
         "14.4",
         "6.1",
         "0",
         "1",
         "1",
         "1",
         "Male"
        ],
        [
         "4",
         "1",
         "13.5",
         "5.9",
         "0",
         "0",
         "0",
         "0",
         "Female"
        ]
       ],
       "shape": {
        "columns": 8,
        "rows": 5
       }
      },
      "text/html": [
       "<div>\n",
       "<style scoped>\n",
       "    .dataframe tbody tr th:only-of-type {\n",
       "        vertical-align: middle;\n",
       "    }\n",
       "\n",
       "    .dataframe tbody tr th {\n",
       "        vertical-align: top;\n",
       "    }\n",
       "\n",
       "    .dataframe thead th {\n",
       "        text-align: right;\n",
       "    }\n",
       "</style>\n",
       "<table border=\"1\" class=\"dataframe\">\n",
       "  <thead>\n",
       "    <tr style=\"text-align: right;\">\n",
       "      <th></th>\n",
       "      <th>long_hair</th>\n",
       "      <th>forehead_width_cm</th>\n",
       "      <th>forehead_height_cm</th>\n",
       "      <th>nose_wide</th>\n",
       "      <th>nose_long</th>\n",
       "      <th>lips_thin</th>\n",
       "      <th>distance_nose_to_lip_long</th>\n",
       "      <th>gender</th>\n",
       "    </tr>\n",
       "  </thead>\n",
       "  <tbody>\n",
       "    <tr>\n",
       "      <th>0</th>\n",
       "      <td>1</td>\n",
       "      <td>11.8</td>\n",
       "      <td>6.1</td>\n",
       "      <td>1</td>\n",
       "      <td>0</td>\n",
       "      <td>1</td>\n",
       "      <td>1</td>\n",
       "      <td>Male</td>\n",
       "    </tr>\n",
       "    <tr>\n",
       "      <th>1</th>\n",
       "      <td>0</td>\n",
       "      <td>14.0</td>\n",
       "      <td>5.4</td>\n",
       "      <td>0</td>\n",
       "      <td>0</td>\n",
       "      <td>1</td>\n",
       "      <td>0</td>\n",
       "      <td>Female</td>\n",
       "    </tr>\n",
       "    <tr>\n",
       "      <th>2</th>\n",
       "      <td>0</td>\n",
       "      <td>11.8</td>\n",
       "      <td>6.3</td>\n",
       "      <td>1</td>\n",
       "      <td>1</td>\n",
       "      <td>1</td>\n",
       "      <td>1</td>\n",
       "      <td>Male</td>\n",
       "    </tr>\n",
       "    <tr>\n",
       "      <th>3</th>\n",
       "      <td>0</td>\n",
       "      <td>14.4</td>\n",
       "      <td>6.1</td>\n",
       "      <td>0</td>\n",
       "      <td>1</td>\n",
       "      <td>1</td>\n",
       "      <td>1</td>\n",
       "      <td>Male</td>\n",
       "    </tr>\n",
       "    <tr>\n",
       "      <th>4</th>\n",
       "      <td>1</td>\n",
       "      <td>13.5</td>\n",
       "      <td>5.9</td>\n",
       "      <td>0</td>\n",
       "      <td>0</td>\n",
       "      <td>0</td>\n",
       "      <td>0</td>\n",
       "      <td>Female</td>\n",
       "    </tr>\n",
       "  </tbody>\n",
       "</table>\n",
       "</div>"
      ],
      "text/plain": [
       "   long_hair  forehead_width_cm  forehead_height_cm  nose_wide  nose_long  \\\n",
       "0          1               11.8                 6.1          1          0   \n",
       "1          0               14.0                 5.4          0          0   \n",
       "2          0               11.8                 6.3          1          1   \n",
       "3          0               14.4                 6.1          0          1   \n",
       "4          1               13.5                 5.9          0          0   \n",
       "\n",
       "   lips_thin  distance_nose_to_lip_long  gender  \n",
       "0          1                          1    Male  \n",
       "1          1                          0  Female  \n",
       "2          1                          1    Male  \n",
       "3          1                          1    Male  \n",
       "4          0                          0  Female  "
      ]
     },
     "execution_count": 2,
     "metadata": {},
     "output_type": "execute_result"
    }
   ],
   "source": [
    "df = pd.read_csv('../dataset/gender.csv')\n",
    "df.head()"
   ]
  },
  {
   "cell_type": "markdown",
   "id": "c917a579",
   "metadata": {},
   "source": [
    "## Data Preprocessing"
   ]
  },
  {
   "cell_type": "code",
   "execution_count": 3,
   "id": "897bee28",
   "metadata": {},
   "outputs": [
    {
     "data": {
      "text/plain": [
       "long_hair                      int64\n",
       "forehead_width_cm            float64\n",
       "forehead_height_cm           float64\n",
       "nose_wide                      int64\n",
       "nose_long                      int64\n",
       "lips_thin                      int64\n",
       "distance_nose_to_lip_long      int64\n",
       "gender                        object\n",
       "dtype: object"
      ]
     },
     "execution_count": 3,
     "metadata": {},
     "output_type": "execute_result"
    }
   ],
   "source": [
    "df.dtypes"
   ]
  },
  {
   "cell_type": "markdown",
   "id": "60328401",
   "metadata": {},
   "source": [
    "- Handiling Missing & Duplicates Values"
   ]
  },
  {
   "cell_type": "code",
   "execution_count": 4,
   "id": "3d430fe8",
   "metadata": {},
   "outputs": [
    {
     "data": {
      "text/plain": [
       "long_hair                    0\n",
       "forehead_width_cm            0\n",
       "forehead_height_cm           0\n",
       "nose_wide                    0\n",
       "nose_long                    0\n",
       "lips_thin                    0\n",
       "distance_nose_to_lip_long    0\n",
       "gender                       0\n",
       "dtype: int64"
      ]
     },
     "execution_count": 4,
     "metadata": {},
     "output_type": "execute_result"
    }
   ],
   "source": [
    "df.isna().sum()"
   ]
  },
  {
   "cell_type": "code",
   "execution_count": 5,
   "id": "3ac330c2",
   "metadata": {},
   "outputs": [
    {
     "data": {
      "text/plain": [
       "np.int64(1768)"
      ]
     },
     "execution_count": 5,
     "metadata": {},
     "output_type": "execute_result"
    }
   ],
   "source": [
    "df.duplicated().sum()"
   ]
  },
  {
   "cell_type": "code",
   "execution_count": 6,
   "id": "46526a10",
   "metadata": {},
   "outputs": [],
   "source": [
    "df = df.drop_duplicates()"
   ]
  },
  {
   "cell_type": "code",
   "execution_count": 7,
   "id": "91e585e5",
   "metadata": {},
   "outputs": [],
   "source": [
    "label = LabelEncoder()\n",
    "df['gender'] = label.fit_transform(df['gender'])"
   ]
  },
  {
   "cell_type": "markdown",
   "id": "5563282d",
   "metadata": {},
   "source": [
    "- Data Splitting"
   ]
  },
  {
   "cell_type": "code",
   "execution_count": 8,
   "id": "13d2bb6b",
   "metadata": {},
   "outputs": [],
   "source": [
    "X = df.drop('gender', axis=1)\n",
    "y = df['gender']\n",
    "\n",
    "X_train, X_test, y_train, y_test = train_test_split(X, y, test_size=0.2, random_state=42)\n"
   ]
  },
  {
   "cell_type": "code",
   "execution_count": 9,
   "id": "99d624f5",
   "metadata": {},
   "outputs": [],
   "source": [
    "scaler = StandardScaler()\n",
    "X_train_scaled = scaler.fit_transform(X_train)\n",
    "X_test_scaled = scaler.fit_transform(X_test)"
   ]
  },
  {
   "cell_type": "markdown",
   "id": "39a2d67b",
   "metadata": {},
   "source": [
    "## Modeling & Evaluation"
   ]
  },
  {
   "cell_type": "markdown",
   "id": "dafaabaf",
   "metadata": {},
   "source": [
    "- SVM"
   ]
  },
  {
   "cell_type": "code",
   "execution_count": 10,
   "id": "4aefe634",
   "metadata": {},
   "outputs": [
    {
     "name": "stdout",
     "output_type": "stream",
     "text": [
      "Akurasi : 0.9582689335394127\n",
      "              precision    recall  f1-score   support\n",
      "\n",
      "           0       0.95      0.96      0.96       308\n",
      "           1       0.96      0.96      0.96       339\n",
      "\n",
      "    accuracy                           0.96       647\n",
      "   macro avg       0.96      0.96      0.96       647\n",
      "weighted avg       0.96      0.96      0.96       647\n",
      "\n"
     ]
    }
   ],
   "source": [
    "model_svm = SVC()\n",
    "model_svm.fit(X_train_scaled, y_train)\n",
    "\n",
    "y_pred_svm = model_svm.predict(X_test_scaled)\n",
    "print(\"Akurasi :\", accuracy_score(y_test, y_pred_svm))\n",
    "print(classification_report(y_test, y_pred_svm))"
   ]
  },
  {
   "cell_type": "markdown",
   "id": "3320de79",
   "metadata": {},
   "source": [
    "- Decision Tree"
   ]
  },
  {
   "cell_type": "code",
   "execution_count": 11,
   "id": "bcf2278c",
   "metadata": {},
   "outputs": [
    {
     "name": "stdout",
     "output_type": "stream",
     "text": [
      "Akurasi :  0.9474497681607419\n",
      "              precision    recall  f1-score   support\n",
      "\n",
      "           0       0.94      0.94      0.94       308\n",
      "           1       0.95      0.95      0.95       339\n",
      "\n",
      "    accuracy                           0.95       647\n",
      "   macro avg       0.95      0.95      0.95       647\n",
      "weighted avg       0.95      0.95      0.95       647\n",
      "\n"
     ]
    }
   ],
   "source": [
    "model_tree = DecisionTreeClassifier()\n",
    "model_tree.fit(X_train, y_train)\n",
    "\n",
    "y_pred_tree = model_tree.predict(X_test) \n",
    "print(\"Akurasi : \", accuracy_score(y_test,y_pred_tree))\n",
    "print(classification_report(y_test, y_pred_tree))"
   ]
  },
  {
   "cell_type": "markdown",
   "id": "6fc8e10e",
   "metadata": {},
   "source": [
    "- K Nearest Neighbor"
   ]
  },
  {
   "cell_type": "code",
   "execution_count": 15,
   "id": "8dde50d5",
   "metadata": {},
   "outputs": [
    {
     "data": {
      "image/png": "[encoded data removed]",
      "text/plain": [
       "<Figure size 1000x500 with 1 Axes>"
      ]
     },
     "metadata": {},
     "output_type": "display_data"
    },
    {
     "name": "stdout",
     "output_type": "stream",
     "text": [
      "Nilai k terbaik: 7 dengan akurasi 0.95\n",
      "              precision    recall  f1-score   support\n",
      "\n",
      "           0       0.92      0.98      0.95       308\n",
      "           1       0.98      0.92      0.95       339\n",
      "\n",
      "    accuracy                           0.95       647\n",
      "   macro avg       0.95      0.95      0.95       647\n",
      "weighted avg       0.95      0.95      0.95       647\n",
      "\n"
     ]
    }
   ],
   "source": [
    "k_values = list(range(1,11))\n",
    "acc = []\n",
    "best_model = None\n",
    "best_pred = None\n",
    "for k in k_values:\n",
    "    model_knn = KNeighborsClassifier(n_neighbors=k)\n",
    "    model_knn.fit(X_train_scaled, y_train)\n",
    "    y_pred_knn = model_knn.predict(X_test_scaled)\n",
    "    accu = accuracy_score(y_test, y_pred_knn)\n",
    "    acc.append(accu)\n",
    "\n",
    "    if accu == max(acc):\n",
    "        best_model  = model_knn\n",
    "        best_pred = y_pred_knn\n",
    "\n",
    "plt.figure(figsize=(10,5))\n",
    "plt.plot(k_values, acc, marker='o')\n",
    "plt.title(\"Akurasi KNN pada Berbagai Nilai K\")\n",
    "plt.xlabel(\"Jumlah K\")\n",
    "plt.ylabel(\"Akurasi\")\n",
    "plt.xticks(k_values)\n",
    "plt.grid(True)\n",
    "plt.show()\n",
    "\n",
    "best_k = k_values[acc.index(max(acc))]\n",
    "print(f\"Nilai k terbaik: {best_k} dengan akurasi {max(acc):.2f}\")\n",
    "print(classification_report(y_test, best_pred))\n"
   ]
  },
  {
   "cell_type": "markdown",
   "id": "54a73f92",
   "metadata": {},
   "source": [
    "## Testing"
   ]
  },
  {
   "cell_type": "code",
   "execution_count": null,
   "id": "18b9249b",
   "metadata": {},
   "outputs": [],
   "source": []
  }
 ],
 "metadata": {
  "kernelspec": {
   "display_name": ".venv",
   "language": "python",
   "name": "python3"
  },
  "language_info": {
   "codemirror_mode": {
    "name": "ipython",
    "version": 3
   },
   "file_extension": ".py",
   "mimetype": "text/x-python",
   "name": "python",
   "nbconvert_exporter": "python",
   "pygments_lexer": "ipython3",
   "version": "3.10.0"
  }
 },
 "nbformat": 4,
 "nbformat_minor": 5
}
